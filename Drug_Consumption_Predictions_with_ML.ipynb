{
 "cells": [
  {
   "cell_type": "markdown",
   "metadata": {},
   "source": [
    "# Drug consumption (quantified) Data Set\n",
    "\n",
    "Abstract: Classify the type of drug consumer by personality data\n",
    "\n",
    "Number of Instances: 1885\n",
    "\n",
    "Number of Attributes: 32\n",
    "\n",
    "Date Donated: 2016-10-17\n",
    "\n",
    "Original database: http://archive.ics.uci.edu/ml/datasets/Drug+consumption+%28quantified%29\n",
    "\n",
    "Predict if a person is a drug consumer based on their personality data and demographics"
   ]
  },
  {
   "cell_type": "code",
   "execution_count": 106,
   "metadata": {},
   "outputs": [],
   "source": [
    "# Required libraries\n",
    "%matplotlib inline\n",
    "import numpy as np\n",
    "import pandas as pd\n",
    "from matplotlib import pyplot as plt\n",
    "from mpl_toolkits.mplot3d import Axes3D\n",
    "from scipy import stats\n",
    "from pylab import *\n",
    "\n",
    "# ML\n",
    "from sklearn.model_selection import train_test_split\n",
    "from sklearn.decomposition import PCA\n",
    "from sklearn import svm\n",
    "from sklearn.cluster import KMeans\n",
    "from sklearn import tree\n",
    "from sklearn.naive_bayes import GaussianNB, BernoulliNB, MultinomialNB\n",
    "from sklearn.tree import export_graphviz\n",
    "import graphviz"
   ]
  },
  {
   "cell_type": "code",
   "execution_count": 49,
   "metadata": {},
   "outputs": [
    {
     "data": {
      "text/html": [
       "<div>\n",
       "<style scoped>\n",
       "    .dataframe tbody tr th:only-of-type {\n",
       "        vertical-align: middle;\n",
       "    }\n",
       "\n",
       "    .dataframe tbody tr th {\n",
       "        vertical-align: top;\n",
       "    }\n",
       "\n",
       "    .dataframe thead th {\n",
       "        text-align: right;\n",
       "    }\n",
       "</style>\n",
       "<table border=\"1\" class=\"dataframe\">\n",
       "  <thead>\n",
       "    <tr style=\"text-align: right;\">\n",
       "      <th></th>\n",
       "      <th>ID</th>\n",
       "      <th>Age</th>\n",
       "      <th>Gender</th>\n",
       "      <th>Education</th>\n",
       "      <th>Country</th>\n",
       "      <th>Ethnicity</th>\n",
       "      <th>Nscore</th>\n",
       "      <th>Escore</th>\n",
       "      <th>Oscore</th>\n",
       "      <th>Ascore</th>\n",
       "      <th>...</th>\n",
       "      <th>Ecstasy.2</th>\n",
       "      <th>Heroin.2</th>\n",
       "      <th>Ketamine.2</th>\n",
       "      <th>Legalh.2</th>\n",
       "      <th>LSD.2</th>\n",
       "      <th>Meth.2</th>\n",
       "      <th>Mushrooms.2</th>\n",
       "      <th>Nicotine.2</th>\n",
       "      <th>Semer.2</th>\n",
       "      <th>VSA.2</th>\n",
       "    </tr>\n",
       "  </thead>\n",
       "  <tbody>\n",
       "    <tr>\n",
       "      <th>0</th>\n",
       "      <td>1</td>\n",
       "      <td>35-44</td>\n",
       "      <td>Female</td>\n",
       "      <td>Professional certificate/ diploma</td>\n",
       "      <td>UK</td>\n",
       "      <td>Mixed-White/Asian</td>\n",
       "      <td>0,31287</td>\n",
       "      <td>-0,57545</td>\n",
       "      <td>-0,58331</td>\n",
       "      <td>-0,91699</td>\n",
       "      <td>...</td>\n",
       "      <td>NU</td>\n",
       "      <td>NU</td>\n",
       "      <td>NU</td>\n",
       "      <td>NU</td>\n",
       "      <td>NU</td>\n",
       "      <td>NU</td>\n",
       "      <td>NU</td>\n",
       "      <td>U</td>\n",
       "      <td>NU</td>\n",
       "      <td>NU</td>\n",
       "    </tr>\n",
       "    <tr>\n",
       "      <th>1</th>\n",
       "      <td>2</td>\n",
       "      <td>25-34</td>\n",
       "      <td>Male</td>\n",
       "      <td>Doctorate degree</td>\n",
       "      <td>UK</td>\n",
       "      <td>White</td>\n",
       "      <td>-0,67825</td>\n",
       "      <td>1,93886</td>\n",
       "      <td>1,43533</td>\n",
       "      <td>0,76096</td>\n",
       "      <td>...</td>\n",
       "      <td>U</td>\n",
       "      <td>NU</td>\n",
       "      <td>U</td>\n",
       "      <td>NU</td>\n",
       "      <td>U</td>\n",
       "      <td>U</td>\n",
       "      <td>NU</td>\n",
       "      <td>U</td>\n",
       "      <td>NU</td>\n",
       "      <td>NU</td>\n",
       "    </tr>\n",
       "    <tr>\n",
       "      <th>2</th>\n",
       "      <td>3</td>\n",
       "      <td>35-44</td>\n",
       "      <td>Male</td>\n",
       "      <td>Professional certificate/ diploma</td>\n",
       "      <td>UK</td>\n",
       "      <td>White</td>\n",
       "      <td>-0,46725</td>\n",
       "      <td>0,80523</td>\n",
       "      <td>-0,84732</td>\n",
       "      <td>-1,6209</td>\n",
       "      <td>...</td>\n",
       "      <td>NU</td>\n",
       "      <td>NU</td>\n",
       "      <td>NU</td>\n",
       "      <td>NU</td>\n",
       "      <td>NU</td>\n",
       "      <td>NU</td>\n",
       "      <td>U</td>\n",
       "      <td>NU</td>\n",
       "      <td>NU</td>\n",
       "      <td>NU</td>\n",
       "    </tr>\n",
       "    <tr>\n",
       "      <th>3</th>\n",
       "      <td>4</td>\n",
       "      <td>18-24</td>\n",
       "      <td>Female</td>\n",
       "      <td>Masters degree</td>\n",
       "      <td>UK</td>\n",
       "      <td>White</td>\n",
       "      <td>-0,14882</td>\n",
       "      <td>-0,80615</td>\n",
       "      <td>-0,01928</td>\n",
       "      <td>0,59042</td>\n",
       "      <td>...</td>\n",
       "      <td>NU</td>\n",
       "      <td>NU</td>\n",
       "      <td>U</td>\n",
       "      <td>NU</td>\n",
       "      <td>NU</td>\n",
       "      <td>NU</td>\n",
       "      <td>NU</td>\n",
       "      <td>U</td>\n",
       "      <td>NU</td>\n",
       "      <td>NU</td>\n",
       "    </tr>\n",
       "    <tr>\n",
       "      <th>4</th>\n",
       "      <td>5</td>\n",
       "      <td>35-44</td>\n",
       "      <td>Female</td>\n",
       "      <td>Doctorate degree</td>\n",
       "      <td>UK</td>\n",
       "      <td>White</td>\n",
       "      <td>0,73545</td>\n",
       "      <td>-1,6334</td>\n",
       "      <td>-0,45174</td>\n",
       "      <td>-0,30172</td>\n",
       "      <td>...</td>\n",
       "      <td>U</td>\n",
       "      <td>NU</td>\n",
       "      <td>NU</td>\n",
       "      <td>U</td>\n",
       "      <td>NU</td>\n",
       "      <td>NU</td>\n",
       "      <td>U</td>\n",
       "      <td>U</td>\n",
       "      <td>NU</td>\n",
       "      <td>NU</td>\n",
       "    </tr>\n",
       "  </tbody>\n",
       "</table>\n",
       "<p>5 rows × 70 columns</p>\n",
       "</div>"
      ],
      "text/plain": [
       "   ID    Age  Gender                          Education Country  \\\n",
       "0   1  35-44  Female  Professional certificate/ diploma      UK   \n",
       "1   2  25-34    Male                   Doctorate degree      UK   \n",
       "2   3  35-44    Male  Professional certificate/ diploma      UK   \n",
       "3   4  18-24  Female                     Masters degree      UK   \n",
       "4   5  35-44  Female                   Doctorate degree      UK   \n",
       "\n",
       "           Ethnicity    Nscore    Escore    Oscore    Ascore  ...  Ecstasy.2  \\\n",
       "0  Mixed-White/Asian   0,31287  -0,57545  -0,58331  -0,91699  ...         NU   \n",
       "1              White  -0,67825   1,93886   1,43533   0,76096  ...          U   \n",
       "2              White  -0,46725   0,80523  -0,84732   -1,6209  ...         NU   \n",
       "3              White  -0,14882  -0,80615  -0,01928   0,59042  ...         NU   \n",
       "4              White   0,73545   -1,6334  -0,45174  -0,30172  ...          U   \n",
       "\n",
       "  Heroin.2 Ketamine.2 Legalh.2 LSD.2 Meth.2 Mushrooms.2 Nicotine.2 Semer.2  \\\n",
       "0       NU         NU       NU    NU     NU          NU          U      NU   \n",
       "1       NU          U       NU     U      U          NU          U      NU   \n",
       "2       NU         NU       NU    NU     NU           U         NU      NU   \n",
       "3       NU          U       NU    NU     NU          NU          U      NU   \n",
       "4       NU         NU        U    NU     NU           U          U      NU   \n",
       "\n",
       "  VSA.2  \n",
       "0    NU  \n",
       "1    NU  \n",
       "2    NU  \n",
       "3    NU  \n",
       "4    NU  \n",
       "\n",
       "[5 rows x 70 columns]"
      ]
     },
     "execution_count": 49,
     "metadata": {},
     "output_type": "execute_result"
    }
   ],
   "source": [
    "# Read data from csv saved in your computer\n",
    "df = pd.read_csv(\"C:/Users/kqtt651/OneDrive - AZCollaboration/dataFrames/drugConsumption.csv\", delimiter=';')\n",
    "df.head() # visualize the first rows of tha DataFrame"
   ]
  },
  {
   "cell_type": "markdown",
   "metadata": {},
   "source": [
    "The original DataFrame has commas instead of dots at decimal places. We need to replace those commas with dots to then convert the Pandas DataFrame to a NumPy array.\n",
    "\n",
    "We will also scale and normalize our data, i.e. we will change it to have zero mean and standard deviation equal to one.\n",
    "\n",
    "Once we have changed this we will split the data set in training and testing set."
   ]
  },
  {
   "cell_type": "code",
   "execution_count": 101,
   "metadata": {},
   "outputs": [],
   "source": [
    "X = df[['Nscore','Escore', 'Oscore', 'Ascore', 'Cscore', 'Impulsive', 'SS']].apply(lambda x: x.str.replace(',','.'))\n",
    "X = stats.zscore(np.array(X, dtype = np.float))\n",
    "\n",
    "Y_names = ['Coke.1', 'Crack.1','Ecstasy.1', 'Heroin.1']\n",
    "Y_names\n",
    "Y = df[['Coke.1', 'Crack.1','Ecstasy.1', 'Heroin.1', ]].values\n",
    "X_train, X_test, Y_train, Y_test = train_test_split(X,Y, test_size = 0.33, random_state=10)"
   ]
  },
  {
   "cell_type": "markdown",
   "metadata": {},
   "source": [
    "### PCA"
   ]
  },
  {
   "cell_type": "code",
   "execution_count": 92,
   "metadata": {},
   "outputs": [
    {
     "name": "stdout",
     "output_type": "stream",
     "text": [
      "[[ 0.3221328  -0.07170255  0.28219393 -0.32168185 -0.42933754  0.52467751\n",
      "   0.49835666]\n",
      " [-0.43978976  0.60986829  0.39824829  0.20263827  0.2981108   0.19516289\n",
      "   0.32866864]\n",
      " [-0.32885591  0.18606233 -0.4793885  -0.76595018  0.16722587  0.09651726\n",
      "   0.05883454]\n",
      " [ 0.24962991 -0.09251792  0.61616283 -0.48178447  0.40400492 -0.38385874\n",
      "  -0.08237064]\n",
      " [ 0.55428175  0.03050625 -0.31464138  0.16354062  0.66406363  0.30229059\n",
      "   0.18367438]\n",
      " [ 0.46619577  0.75869583 -0.07176796 -0.07560039 -0.29128978 -0.14176391\n",
      "  -0.30204195]\n",
      " [ 0.088246    0.056486   -0.21941987  0.06481979 -0.09891674 -0.64690435\n",
      "   0.71302562]]\n",
      "[0.32090788 0.26036508 0.12607872 0.09591916 0.0797303  0.06766605\n",
      " 0.04933281]\n",
      "1.0000000000000002\n"
     ]
    },
    {
     "data": {
      "text/plain": [
       "<matplotlib.collections.PathCollection at 0x29a9fde09b0>"
      ]
     },
     "execution_count": 92,
     "metadata": {},
     "output_type": "execute_result"
    },
    {
     "data": {
      "image/png": "[encoded data removed]",
      "text/plain": [
       "<Figure size 432x288 with 6 Axes>"
      ]
     },
     "metadata": {
      "needs_background": "light"
     },
     "output_type": "display_data"
    }
   ],
   "source": [
    "pca = PCA(n_components = 7, whiten = True).fit(X)\n",
    "X_pca = pca.transform(X)\n",
    "print(pca.components_)\n",
    "print(pca.explained_variance_ratio_)\n",
    "print(sum(pca.explained_variance_ratio_))\n",
    "\n",
    "plt.subplot(2,3,1)\n",
    "plt.scatter(X_pca[:, 0], X_pca[:, 1])\n",
    "plt.subplot(2,3,2)\n",
    "plt.scatter(X_pca[:, 0], X_pca[:, 2])\n",
    "plt.subplot(2,3,3)\n",
    "plt.scatter(X_pca[:, 0], X_pca[:, 3])\n",
    "plt.subplot(2,3,4)\n",
    "plt.scatter(X_pca[:, 0], X_pca[:, 4])\n",
    "plt.subplot(2,3,5)\n",
    "plt.scatter(X_pca[:, 0], X_pca[:, 5])\n",
    "plt.subplot(2,3,6)\n",
    "plt.scatter(X_pca[:, 0], X_pca[:, 6])\n"
   ]
  },
  {
   "cell_type": "markdown",
   "metadata": {},
   "source": [
    "### KMeans"
   ]
  },
  {
   "cell_type": "code",
   "execution_count": 65,
   "metadata": {},
   "outputs": [
    {
     "data": {
      "text/plain": [
       "Text(0.5,0,'Ascore')"
      ]
     },
     "execution_count": 65,
     "metadata": {},
     "output_type": "execute_result"
    },
    {
     "data": {
      "image/png": "[encoded data removed]",
      "text/plain": [
       "<Figure size 288x216 with 1 Axes>"
      ]
     },
     "metadata": {
      "needs_background": "light"
     },
     "output_type": "display_data"
    }
   ],
   "source": [
    "model_KMeans = KMeans(n_clusters = 7)\n",
    "\n",
    "fig = plt.figure(figsize=(4, 3))\n",
    "ax = Axes3D(fig, rect=[0, 0, .95, 1], elev=48, azim=134)\n",
    "model_KMeans.fit(X_train)\n",
    "labels = model_KMeans.labels_\n",
    "\n",
    "ax.scatter(X_train[:,1], X_train[:,2], X_train[:,3], c=labels.astype(np.float), cmap='jet')\n",
    "\n",
    "ax.w_xaxis.set_ticklabels([])\n",
    "ax.w_yaxis.set_ticklabels([])\n",
    "ax.w_zaxis.set_ticklabels([])\n",
    "ax.set_xlabel('Escore')\n",
    "ax.set_ylabel('Oscore')\n",
    "ax.set_zlabel('Ascore')\n",
    "\n",
    "#plt.scatter(X_train[:,0],X_train[:,1], c=labels.astype(np.float))"
   ]
  },
  {
   "cell_type": "markdown",
   "metadata": {},
   "source": [
    "### Decission Tree"
   ]
  },
  {
   "cell_type": "code",
   "execution_count": 143,
   "metadata": {},
   "outputs": [
    {
     "name": "stdout",
     "output_type": "stream",
     "text": [
      "Percentage correctly classified: 55.32 %\n",
      "Percentage correctly classified: 75.32 %\n",
      "Percentage correctly classified: 60.97 %\n",
      "Percentage correctly classified: 74.03 %\n"
     ]
    }
   ],
   "source": [
    "model_Tree = tree.DecisionTreeClassifier()\n",
    "model_Tree_fit = model_Tree.fit(X_train, Y_train)\n",
    "#tree.plot_tree(model_Tree_fit)\n",
    "prediction_Tree = model_Tree_fit.predict(X_test)\n",
    "\n",
    "# Print prediction accuracy\n",
    "accuracy_Tree = sum((np.equal(prediction_Tree, Y_test)), axis= 0)/Y_test.shape[0]\n",
    "print(\"Percentage correctly classified:\",round(accuracy_Tree[0]*100,2), \"%\")\n",
    "print(\"Percentage correctly classified:\",round(accuracy_Tree[1]*100,2), \"%\")\n",
    "print(\"Percentage correctly classified:\",round(accuracy_Tree[2]*100,2), \"%\")\n",
    "print(\"Percentage correctly classified:\",round(accuracy_Tree[3]*100,2), \"%\")\n"
   ]
  },
  {
   "cell_type": "code",
   "execution_count": 141,
   "metadata": {},
   "outputs": [
    {
     "name": "stdout",
     "output_type": "stream",
     "text": [
      "Percentage correctly classified: 64.03 %\n",
      "Percentage correctly classified: 80.81 %\n",
      "Percentage correctly classified: 70.65 %\n",
      "Percentage correctly classified: 81.13 %\n"
     ]
    }
   ],
   "source": [
    "model_GNB = GaussianNB()\n",
    "model_GNB_fit = model_GNB.fit(X_train, Y_train[:,0])\n",
    "prediction_GNB = model_GNB_fit.predict(X_test)\n",
    "\n",
    "# Print prediction accuracy\n",
    "accuracy_GNB = sum((np.equal(prediction_GNB, Y_test[:,0])), axis= 0)/Y_test.shape[0]\n",
    "\n",
    "print(\"Percentage correctly classified:\",round(accuracy_GNB*100,2), \"%\")\n",
    "\n",
    "model_GNB_fit = model_GNB.fit(X_train, Y_train[:,1])\n",
    "prediction_GNB = model_GNB_fit.predict(X_test)\n",
    "accuracy_GNB = sum((np.equal(prediction_GNB, Y_test[:,1])), axis= 0)/Y_test.shape[0]\n",
    "\n",
    "print(\"Percentage correctly classified:\",round(accuracy_GNB*100,2), \"%\")\n",
    "\n",
    "model_GNB_fit = model_GNB.fit(X_train, Y_train[:,2])\n",
    "prediction_GNB = model_GNB_fit.predict(X_test)\n",
    "accuracy_GNB = sum((np.equal(prediction_GNB, Y_test[:,2])), axis= 0)/Y_test.shape[0]\n",
    "\n",
    "print(\"Percentage correctly classified:\",round(accuracy_GNB*100,2), \"%\")\n",
    "\n",
    "model_GNB_fit = model_GNB.fit(X_train, Y_train[:,3])\n",
    "prediction_GNB = model_GNB_fit.predict(X_test)\n",
    "accuracy_GNB = sum((np.equal(prediction_GNB, Y_test[:,3])), axis= 0)/Y_test.shape[0]\n",
    "\n",
    "print(\"Percentage correctly classified:\",round(accuracy_GNB*100,2), \"%\")"
   ]
  },
  {
   "cell_type": "code",
   "execution_count": 149,
   "metadata": {},
   "outputs": [
    {
     "name": "stdout",
     "output_type": "stream",
     "text": [
      "Percentage correctly classified: 63.71 %\n",
      "Percentage correctly classified: 86.29 %\n",
      "Percentage correctly classified: 70.48 %\n",
      "Percentage correctly classified: 84.84 %\n"
     ]
    }
   ],
   "source": [
    "model_SVM = svm.SVC(kernel = 'linear')\n",
    "\n",
    "# Print prediction accuracy\n",
    "model_SVM_fit = model_SVM.fit(X_train, Y_train[:,0])\n",
    "prediction_SVM = model_SVM_fit.predict(X_test)\n",
    "accuracy_SVM = sum((np.equal(prediction_SVM, Y_test[:,0])), axis= 0)/Y_test.shape[0]\n",
    "print(\"Percentage correctly classified:\",round(accuracy_SVM*100,2), \"%\")\n",
    "\n",
    "# Print prediction accuracy\n",
    "model_SVM_fit = model_SVM.fit(X_train, Y_train[:,1])\n",
    "prediction_SVM = model_SVM_fit.predict(X_test)\n",
    "accuracy_SVM = sum((np.equal(prediction_SVM, Y_test[:,1])), axis= 0)/Y_test.shape[0]\n",
    "print(\"Percentage correctly classified:\",round(accuracy_SVM*100,2), \"%\")\n",
    "\n",
    "# Print prediction accuracy\n",
    "model_SVM_fit = model_SVM.fit(X_train, Y_train[:,2])\n",
    "prediction_SVM = model_SVM_fit.predict(X_test)\n",
    "accuracy_SVM = sum((np.equal(prediction_SVM, Y_test[:,2])), axis= 0)/Y_test.shape[0]\n",
    "print(\"Percentage correctly classified:\",round(accuracy_SVM*100,2), \"%\")\n",
    "\n",
    "# Print prediction accuracy\n",
    "model_SVM_fit = model_SVM.fit(X_train, Y_train[:,3])\n",
    "prediction_SVM = model_SVM_fit.predict(X_test)\n",
    "accuracy_SVM = sum((np.equal(prediction_SVM, Y_test[:,3])), axis= 0)/Y_test.shape[0]\n",
    "print(\"Percentage correctly classified:\",round(accuracy_SVM*100,2), \"%\")"
   ]
  }
 ],
 "metadata": {
  "kernelspec": {
   "display_name": "Python 3",
   "language": "python",
   "name": "python3"
  },
  "language_info": {
   "codemirror_mode": {
    "name": "ipython",
    "version": 3
   },
   "file_extension": ".py",
   "mimetype": "text/x-python",
   "name": "python",
   "nbconvert_exporter": "python",
   "pygments_lexer": "ipython3",
   "version": "3.5.4"
  }
 },
 "nbformat": 4,
 "nbformat_minor": 2
}
